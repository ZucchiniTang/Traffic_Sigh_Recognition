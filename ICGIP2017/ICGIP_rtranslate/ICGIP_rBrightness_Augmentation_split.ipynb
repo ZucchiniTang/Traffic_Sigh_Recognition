{
 "cells": [
  {
   "cell_type": "code",
   "execution_count": 1,
   "metadata": {
    "collapsed": false
   },
   "outputs": [
    {
     "name": "stdout",
     "output_type": "stream",
     "text": [
      "x_train shape: (39209, 32, 32, 3)\n",
      "y_train shape: (39209,)\n",
      "y_test shape: (12630, 32, 32, 3)\n",
      "x_test shape: (12630,)\n"
     ]
    }
   ],
   "source": [
    "# Load pickled data\n",
    "import pickle\n",
    "\n",
    "# TODO: Fill this in based on where you saved the training and testing data\n",
    "\n",
    "training_file = \"./traffic-signs-data/train.p\"\n",
    "testing_file = \"./traffic-signs-data/test.p\"\n",
    "\n",
    "with open(training_file, mode='rb') as f:\n",
    "    train = pickle.load(f)\n",
    "\n",
    "with open(testing_file, mode='rb') as f:\n",
    "    test = pickle.load(f)\n",
    "    \n",
    "X_train, y_train = train['features'], train['labels']\n",
    "X_test, y_test = test['features'], test['labels']\n",
    "\n",
    "print(\"x_train shape:\", X_train.shape)\n",
    "print(\"y_train shape:\", y_train.shape)\n",
    "print(\"y_test shape:\", X_test.shape)\n",
    "print(\"x_test shape:\", y_test.shape)"
   ]
  },
  {
   "cell_type": "code",
   "execution_count": 2,
   "metadata": {
    "collapsed": false
   },
   "outputs": [],
   "source": [
    "import random\n",
    "import numpy as np\n",
    "import matplotlib.pyplot as plt\n",
    "%matplotlib inline\n",
    "\n",
    "# Convert to grayscale\n",
    "X_train_rgb = X_train\n",
    "X_train_gry = np.sum(X_train/3, axis=3, keepdims=True)\n",
    "\n",
    "X_test_rgb = X_test\n",
    "X_test_gry = np.sum(X_test/3, axis=3, keepdims=True)\n",
    "\n",
    "X_train = X_train_gry\n",
    "X_test = X_test_gry"
   ]
  },
  {
   "cell_type": "code",
   "execution_count": 3,
   "metadata": {
    "collapsed": false
   },
   "outputs": [
    {
     "data": {
      "image/png": "[encoded data removed]",
      "text/plain": [
       "<matplotlib.figure.Figure at 0x7f5c3a4f89b0>"
      ]
     },
     "metadata": {},
     "output_type": "display_data"
    }
   ],
   "source": [
    "def draw_class_distribution(class_labels):\n",
    "    plt.figure(figsize=(10, 4))\n",
    "    examples_per_class = np.bincount(class_labels)\n",
    "    num_classes = len(examples_per_class)\n",
    "    plt.bar(np.arange(num_classes), examples_per_class, 0.8, color='red', label='Inputs per class')\n",
    "    plt.xlabel('Class number')\n",
    "    plt.ylabel('Examples per class')\n",
    "    plt.title('Distribution of Training Examples Amongst Classes')\n",
    "    plt.show() \n",
    "    \n",
    "draw_class_distribution(y_train)"
   ]
  },
  {
   "cell_type": "code",
   "execution_count": 4,
   "metadata": {
    "collapsed": false
   },
   "outputs": [
    {
     "name": "stdout",
     "output_type": "stream",
     "text": [
      "-0.354179278547\n",
      "-0.358215153428\n"
     ]
    }
   ],
   "source": [
    "## Normalize the train and test datasets to (-1,1)\n",
    "\n",
    "X_train_normalized = (X_train - 128)/128 \n",
    "X_test_normalized = (X_test - 128)/128\n",
    "\n",
    "print(np.mean(X_train_normalized))\n",
    "print(np.mean(X_test_normalized))"
   ]
  },
  {
   "cell_type": "code",
   "execution_count": 5,
   "metadata": {
    "collapsed": true
   },
   "outputs": [],
   "source": [
    "import cv2\n",
    "\n",
    "def random_brightness(img):\n",
    "    shifted = img + 1.0   # shift to (0,2) range\n",
    "    img_max_value = max(shifted.flatten())\n",
    "    max_coef = 2.0/img_max_value\n",
    "    min_coef = max_coef - 0.1\n",
    "    coef = np.random.uniform(min_coef, max_coef)\n",
    "    dst = shifted * coef - 1.0\n",
    "    return dst"
   ]
  },
  {
   "cell_type": "markdown",
   "metadata": {},
   "source": [
    "### Augmentation,  Brightness, if the number of dataset less than 1000,   generate to 1000."
   ]
  },
  {
   "cell_type": "code",
   "execution_count": 7,
   "metadata": {
    "collapsed": false,
    "scrolled": true
   },
   "outputs": [
    {
     "name": "stdout",
     "output_type": "stream",
     "text": [
      "X, y shapes: (39209, 32, 32, 1) (39209,)\n",
      "0 : |----|----|----|----|----|----|----|----|----|----|----|----|----|----|----|---\n",
      "1 : \n",
      "2 : \n",
      "3 : \n",
      "4 : \n",
      "5 : \n",
      "6 : |----|----|----|----|----|----|----|----|----|----|----|--\n",
      "7 : \n",
      "8 : \n",
      "9 : \n",
      "10 : \n",
      "11 : \n",
      "12 : \n",
      "13 : \n",
      "14 : |----|----|----|----|-\n",
      "15 : |----|----|----|----|----|----|----|-\n",
      "16 : |----|----|----|----|----|----|----|----|----|----|----|--\n",
      "17 : \n",
      "18 : \n",
      "19 : |----|----|----|----|----|----|----|----|----|----|----|----|----|----|----|---\n",
      "20 : |----|----|----|----|----|----|----|----|----|----|----|----|---\n",
      "21 : |----|----|----|----|----|----|----|----|----|----|----|----|----|-\n",
      "22 : |----|----|----|----|----|----|----|----|----|----|----|----|\n",
      "23 : |----|----|----|----|----|----|----|----|----|---\n",
      "24 : |----|----|----|----|----|----|----|----|----|----|----|----|----|----|--\n",
      "25 : \n",
      "26 : |----|----|----|----|----|----|----|----\n",
      "27 : |----|----|----|----|----|----|----|----|----|----|----|----|----|----|----|\n",
      "28 : |----|----|----|----|----|----|----|----|----|\n",
      "29 : |----|----|----|----|----|----|----|----|----|----|----|----|----|----|--\n",
      "30 : |----|----|----|----|----|----|----|----|----|----|----\n",
      "31 : |----|----|----|----|-\n",
      "32 : |----|----|----|----|----|----|----|----|----|----|----|----|----|----|----|\n",
      "33 : |----|----|----|----|----|----|-\n",
      "34 : |----|----|----|----|----|----|----|----|----|----|----|--\n",
      "35 : \n",
      "36 : |----|----|----|----|----|----|----|----|----|----|----|----|\n",
      "37 : |----|----|----|----|----|----|----|----|----|----|----|----|----|----|----|---\n",
      "38 : \n",
      "39 : |----|----|----|----|----|----|----|----|----|----|----|----|----|----\n",
      "40 : |----|----|----|----|----|----|----|----|----|----|----|----|---\n",
      "41 : |----|----|----|----|----|----|----|----|----|----|----|----|----|----|----|\n",
      "42 : |----|----|----|----|----|----|----|----|----|----|----|----|----|----|----|\n",
      "X, y shapes: (54710, 32, 32, 1) (54710,)\n"
     ]
    }
   ],
   "source": [
    "n_classes = len(np.unique(y_train))\n",
    "print('X, y shapes:', X_train_normalized.shape, y_train.shape)\n",
    "\n",
    "\n",
    "input_indices = []\n",
    "output_indices = []\n",
    "\n",
    "for class_n in range(n_classes):\n",
    "    print(class_n, ': ', end='')\n",
    "    class_indices = np.where(y_train == class_n)\n",
    "    n_samples = len(class_indices[0])\n",
    "    if n_samples < 1000:\n",
    "        for i in range(1000 - n_samples):\n",
    "            input_indices.append(class_indices[0][i%n_samples])\n",
    "            output_indices.append(X_train_normalized.shape[0])\n",
    "            new_img = X_train_normalized[class_indices[0][i % n_samples]]\n",
    "            new_img = random_brightness(new_img)\n",
    "            X_train_normalized = np.concatenate((X_train_normalized, [new_img]), axis=0)\n",
    "            y_train = np.concatenate((y_train, [class_n]), axis=0)\n",
    "            if i % 50 == 0:\n",
    "                print('|', end='')\n",
    "            elif i % 10 == 0:\n",
    "                print('-',end='')\n",
    "    print('')\n",
    "            \n",
    "print('X, y shapes:', X_train_normalized.shape, y_train.shape)"
   ]
  },
  {
   "cell_type": "code",
   "execution_count": 8,
   "metadata": {
    "collapsed": false,
    "scrolled": false
   },
   "outputs": [
    {
     "data": {
      "image/png": "[encoded data removed]",
      "text/plain": [
       "<matplotlib.figure.Figure at 0x7f5c30d82c88>"
      ]
     },
     "metadata": {},
     "output_type": "display_data"
    }
   ],
   "source": [
    "draw_class_distribution( y_train)"
   ]
  },
  {
   "cell_type": "code",
   "execution_count": 9,
   "metadata": {
    "collapsed": false
   },
   "outputs": [
    {
     "name": "stdout",
     "output_type": "stream",
     "text": [
      "Old X_train size: 39209\n",
      "New X_train size: 54710\n",
      "New Y_train size: 54710\n"
     ]
    }
   ],
   "source": [
    "## Shuffle the training dataset\n",
    "\n",
    "from sklearn.utils import shuffle\n",
    "\n",
    "X_train_normalized, y_train = shuffle(X_train_normalized, y_train)\n",
    "print(\"Old X_train size:\",len(X_train))\n",
    "print(\"New X_train size:\",len(X_train_normalized))\n",
    "print(\"New Y_train size:\",len(y_train))"
   ]
  },
  {
   "cell_type": "code",
   "execution_count": 10,
   "metadata": {
    "collapsed": true
   },
   "outputs": [],
   "source": [
    "import tensorflow as tf\n",
    "\n",
    "EPOCHS = 40\n",
    "BATCH_SIZE = 100"
   ]
  },
  {
   "cell_type": "code",
   "execution_count": 11,
   "metadata": {
    "collapsed": false
   },
   "outputs": [
    {
     "name": "stdout",
     "output_type": "stream",
     "text": [
      "X_train_normalized size: 54710\n",
      "X_train_split size: 43768\n",
      "X_val size: 10942\n"
     ]
    }
   ],
   "source": [
    "from sklearn.model_selection import train_test_split\n",
    "\n",
    "X_train_split, X_val_split, y_train_split, y_val_split = train_test_split(X_train_normalized, y_train, \n",
    "                                                                test_size=0.20, random_state=42)\n",
    "print(\"X_train_normalized size:\",len(X_train_normalized))\n",
    "print(\"X_train_split size:\",len(X_train_split))\n",
    "print(\"X_val size:\",len(X_val_split))"
   ]
  },
  {
   "cell_type": "code",
   "execution_count": 12,
   "metadata": {
    "collapsed": true
   },
   "outputs": [],
   "source": [
    "from tensorflow.contrib.layers import flatten\n",
    "\n",
    "def LeNet2_ICGIP(x):    \n",
    "    # Hyperparameters\n",
    "    mu = 0\n",
    "    sigma = 0.1\n",
    "    \n",
    "    # TODO: Layer 1: Convolutional. Input = 32x32x1. Output = 28x28x6.\n",
    "    W1 = tf.Variable(tf.truncated_normal(shape=(5, 5, 1, 6), mean = mu, stddev = sigma), name=\"W1\")\n",
    "    x = tf.nn.conv2d(x, W1, strides=[1, 1, 1, 1], padding='VALID')\n",
    "    b1 = tf.Variable(tf.zeros(6), name=\"b1\")\n",
    "    x = tf.nn.bias_add(x, b1)\n",
    "    #print(\"layer 1 shape:\",x.get_shape())\n",
    "\n",
    "    # TODO: Activation.\n",
    "    x = tf.nn.relu(x)\n",
    "    \n",
    "    # TODO: Pooling. Input = 28x28x6. Output = 14x14x6.\n",
    "    x = tf.nn.max_pool(x, ksize=[1, 2, 2, 1], strides=[1, 2, 2, 1], padding='VALID')\n",
    "    layer1 = x\n",
    "    \n",
    "    # TODO: Layer 2: Convolutional. Output = 10x10x16.\n",
    "    W2 = tf.Variable(tf.truncated_normal(shape=(5, 5, 6, 16), mean = mu, stddev = sigma), name=\"W2\")\n",
    "    x = tf.nn.conv2d(x, W2, strides=[1, 1, 1, 1], padding='VALID')\n",
    "    b2 = tf.Variable(tf.zeros(16), name=\"b2\")\n",
    "    x = tf.nn.bias_add(x, b2)\n",
    "                     \n",
    "    # TODO: Activation.\n",
    "    x = tf.nn.relu(x)\n",
    "\n",
    "    # TODO: Pooling. Input = 10x10x16. Output = 5x5x16.\n",
    "    x = tf.nn.max_pool(x, ksize=[1, 2, 2, 1], strides=[1, 2, 2, 1], padding='VALID')\n",
    "    layer2 = x\n",
    "    \n",
    "    # TODO: Layer 3: Convolutional. Output = 1x1x400.\n",
    "    W3 = tf.Variable(tf.truncated_normal(shape=(5, 5, 16, 400), mean = mu, stddev = sigma), name=\"W3\")\n",
    "    x = tf.nn.conv2d(x, W3, strides=[1, 1, 1, 1], padding='VALID')\n",
    "    b3 = tf.Variable(tf.zeros(400), name=\"b3\")\n",
    "    x = tf.nn.bias_add(x, b3)\n",
    "                     \n",
    "    # TODO: Activation.\n",
    "    x = tf.nn.relu(x)\n",
    "    layer3 = x\n",
    "\n",
    "    # TODO: Flatten. Input = 5x5x16. Output = 400.\n",
    "    layer2flat = flatten(layer2)\n",
    "    #print(\"layer2flat shape:\",layer2flat.get_shape())\n",
    "    \n",
    "    # Flatten x. Input = 1x1x400. Output = 400.\n",
    "    xflat = flatten(x)\n",
    "    #print(\"xflat shape:\",xflat.get_shape())\n",
    "    \n",
    "    # Concat layer2flat and x. Input = 400 + 400. Output = 800\n",
    "    x = tf.concat([xflat, layer2flat], 1)\n",
    "    #print(\"x shape:\",x.get_shape())\n",
    "    \n",
    "    # Dropout\n",
    "    x = tf.nn.dropout(x, keep_prob)\n",
    "    \n",
    "    # TODO: Layer 4: Fully Connected. Input = 800. Output = 43.\n",
    "    W4 = tf.Variable(tf.truncated_normal(shape=(800, 43), mean = mu, stddev = sigma), name=\"W4\")\n",
    "    b4 = tf.Variable(tf.zeros(43), name=\"b4\")    \n",
    "    logits = tf.add(tf.matmul(x, W4), b4)\n",
    "    \n",
    "    # TODO: Activation.\n",
    "    #x = tf.nn.relu(x)\n",
    "\n",
    "    # TODO: Layer 5: Fully Connected. Input = 120. Output = 84.\n",
    "    #W5 = tf.Variable(tf.truncated_normal(shape=(120, 84), mean = mu, stddev = sigma))\n",
    "    #b5 = tf.Variable(tf.zeros(84)) \n",
    "    #x = tf.add(tf.matmul(x, W5), b5)\n",
    "    \n",
    "    # TODO: Activation.\n",
    "    #x = tf.nn.relu(x)\n",
    "\n",
    "    # TODO: Layer 6: Fully Connected. Input = 84. Output = 43.\n",
    "    #W6 = tf.Variable(tf.truncated_normal(shape=(84, 43), mean = mu, stddev = sigma))\n",
    "    #b6 = tf.Variable(tf.zeros(43)) \n",
    "    #logits = tf.add(tf.matmul(x, W6), b6)\n",
    "    \n",
    "    return logits"
   ]
  },
  {
   "cell_type": "code",
   "execution_count": 13,
   "metadata": {
    "collapsed": true
   },
   "outputs": [],
   "source": [
    "tf.reset_default_graph() \n",
    "\n",
    "x = tf.placeholder(tf.float32, (None, 32, 32, 1))\n",
    "y = tf.placeholder(tf.int32, (None))\n",
    "keep_prob = tf.placeholder(tf.float32) # probability to keep units\n",
    "one_hot_y = tf.one_hot(y, 43)\n",
    "rate = 0.001"
   ]
  },
  {
   "cell_type": "code",
   "execution_count": 14,
   "metadata": {
    "collapsed": false
   },
   "outputs": [],
   "source": [
    "logits = LeNet2_ICGIP(x)\n",
    "cross_entropy = tf.nn.softmax_cross_entropy_with_logits(logits=logits, labels=one_hot_y)\n",
    "loss_operation = tf.reduce_mean(cross_entropy)\n",
    "optimizer = tf.train.AdamOptimizer(learning_rate = rate)\n",
    "training_operation = optimizer.minimize(loss_operation)"
   ]
  },
  {
   "cell_type": "code",
   "execution_count": 15,
   "metadata": {
    "collapsed": true
   },
   "outputs": [],
   "source": [
    "correct_prediction = tf.equal(tf.argmax(logits, 1), tf.argmax(one_hot_y, 1))\n",
    "accuracy_operation = tf.reduce_mean(tf.cast(correct_prediction, tf.float32))\n",
    "saver = tf.train.Saver()\n",
    "\n",
    "def evaluate(X_data, y_data):\n",
    "    num_examples = len(X_data)\n",
    "    total_accuracy = 0\n",
    "    sess = tf.get_default_session()\n",
    "    for offset in range(0, num_examples, BATCH_SIZE):\n",
    "        batch_x, batch_y = X_data[offset:offset+BATCH_SIZE], y_data[offset:offset+BATCH_SIZE]\n",
    "        accuracy = sess.run(accuracy_operation, feed_dict={x: batch_x, y: batch_y, keep_prob: 1.0})\n",
    "        total_accuracy += (accuracy * len(batch_x))\n",
    "    return total_accuracy / num_examples"
   ]
  },
  {
   "cell_type": "code",
   "execution_count": 17,
   "metadata": {
    "collapsed": false
   },
   "outputs": [
    {
     "name": "stdout",
     "output_type": "stream",
     "text": [
      "(54710, 32, 32, 1)\n"
     ]
    }
   ],
   "source": [
    "print(X_train_normalized.shape)\n"
   ]
  },
  {
   "cell_type": "code",
   "execution_count": 18,
   "metadata": {
    "collapsed": false
   },
   "outputs": [
    {
     "name": "stdout",
     "output_type": "stream",
     "text": [
      "Training...\n",
      "\n",
      "EPOCH 1 ...\n",
      "Validation Accuracy = 0.936\n",
      "\n",
      "EPOCH 2 ...\n",
      "Validation Accuracy = 0.969\n",
      "\n",
      "EPOCH 3 ...\n",
      "Validation Accuracy = 0.983\n",
      "\n",
      "EPOCH 4 ...\n",
      "Validation Accuracy = 0.984\n",
      "\n",
      "EPOCH 5 ...\n",
      "Validation Accuracy = 0.987\n",
      "\n",
      "EPOCH 6 ...\n",
      "Validation Accuracy = 0.991\n",
      "\n",
      "EPOCH 7 ...\n",
      "Validation Accuracy = 0.992\n",
      "\n",
      "EPOCH 8 ...\n",
      "Validation Accuracy = 0.993\n",
      "\n",
      "EPOCH 9 ...\n",
      "Validation Accuracy = 0.991\n",
      "\n",
      "EPOCH 10 ...\n",
      "Validation Accuracy = 0.993\n",
      "\n",
      "EPOCH 11 ...\n",
      "Validation Accuracy = 0.993\n",
      "\n",
      "EPOCH 12 ...\n",
      "Validation Accuracy = 0.991\n",
      "\n",
      "EPOCH 13 ...\n",
      "Validation Accuracy = 0.993\n",
      "\n",
      "EPOCH 14 ...\n",
      "Validation Accuracy = 0.994\n",
      "\n",
      "EPOCH 15 ...\n",
      "Validation Accuracy = 0.993\n",
      "\n",
      "EPOCH 16 ...\n",
      "Validation Accuracy = 0.993\n",
      "\n",
      "EPOCH 17 ...\n",
      "Validation Accuracy = 0.994\n",
      "\n",
      "EPOCH 18 ...\n",
      "Validation Accuracy = 0.994\n",
      "\n",
      "EPOCH 19 ...\n",
      "Validation Accuracy = 0.994\n",
      "\n",
      "EPOCH 20 ...\n",
      "Validation Accuracy = 0.994\n",
      "\n",
      "EPOCH 21 ...\n",
      "Validation Accuracy = 0.993\n",
      "\n",
      "EPOCH 22 ...\n",
      "Validation Accuracy = 0.995\n",
      "\n",
      "EPOCH 23 ...\n",
      "Validation Accuracy = 0.995\n",
      "\n",
      "EPOCH 24 ...\n",
      "Validation Accuracy = 0.993\n",
      "\n",
      "EPOCH 25 ...\n",
      "Validation Accuracy = 0.994\n",
      "\n",
      "EPOCH 26 ...\n",
      "Validation Accuracy = 0.994\n",
      "\n",
      "EPOCH 27 ...\n",
      "Validation Accuracy = 0.995\n",
      "\n",
      "EPOCH 28 ...\n",
      "Validation Accuracy = 0.994\n",
      "\n",
      "EPOCH 29 ...\n",
      "Validation Accuracy = 0.995\n",
      "\n",
      "EPOCH 30 ...\n",
      "Validation Accuracy = 0.994\n",
      "\n",
      "EPOCH 31 ...\n",
      "Validation Accuracy = 0.996\n",
      "\n",
      "EPOCH 32 ...\n",
      "Validation Accuracy = 0.995\n",
      "\n",
      "EPOCH 33 ...\n",
      "Validation Accuracy = 0.996\n",
      "\n",
      "EPOCH 34 ...\n",
      "Validation Accuracy = 0.995\n",
      "\n",
      "EPOCH 35 ...\n",
      "Validation Accuracy = 0.995\n",
      "\n",
      "EPOCH 36 ...\n",
      "Validation Accuracy = 0.995\n",
      "\n",
      "EPOCH 37 ...\n",
      "Validation Accuracy = 0.995\n",
      "\n",
      "EPOCH 38 ...\n",
      "Validation Accuracy = 0.994\n",
      "\n",
      "EPOCH 39 ...\n",
      "Validation Accuracy = 0.995\n",
      "\n",
      "EPOCH 40 ...\n",
      "Validation Accuracy = 0.994\n",
      "\n",
      "Model saved\n"
     ]
    }
   ],
   "source": [
    "with tf.Session() as sess:\n",
    "    sess.run(tf.global_variables_initializer())\n",
    "    num_examples = len(X_train_split)\n",
    "    \n",
    "    print(\"Training...\")\n",
    "    print()\n",
    "    for i in range(EPOCHS):\n",
    "        X_train_split, y_train_split = shuffle(X_train_split, y_train_split)\n",
    "        for offset in range(0, num_examples, BATCH_SIZE):\n",
    "            end = offset + BATCH_SIZE\n",
    "            batch_x, batch_y = X_train_split[offset:end], y_train_split[offset:end]\n",
    "            sess.run(training_operation, feed_dict={x: batch_x, y: batch_y, keep_prob: 0.5})\n",
    "            \n",
    "        validation_accuracy = evaluate(X_val_split, y_val_split)\n",
    "        print(\"EPOCH {} ...\".format(i+1))\n",
    "        print(\"Validation Accuracy = {:.3f}\".format(validation_accuracy))\n",
    "        print()\n",
    "        \n",
    "    saver.save(sess, 'lenet2_rbrightness')\n",
    "    print(\"Model saved\")"
   ]
  },
  {
   "cell_type": "code",
   "execution_count": 21,
   "metadata": {
    "collapsed": false
   },
   "outputs": [
    {
     "name": "stdout",
     "output_type": "stream",
     "text": [
      "INFO:tensorflow:Restoring parameters from lenet2_rbrightness\n",
      "Test Set Accuracy = 0.9432\n",
      "1.52 Seconds to test...\n"
     ]
    }
   ],
   "source": [
    "# load `lenet_split.meta` model to test `X_test`\n",
    "# Check the test time for the 'lenet2_rtranslate'\n",
    "#import time\n",
    "import time\n",
    "t=time.time()\n",
    "with tf.Session() as sess:\n",
    "    sess.run(tf.global_variables_initializer())\n",
    "    saver2 = tf.train.import_meta_graph('lenet2_rbrightness.meta')\n",
    "    saver2.restore(sess, \"lenet2_rbrightness\")\n",
    "    test_accuracy = evaluate(X_test_normalized, y_test)\n",
    "    print(\"Test Set Accuracy = {:.4f}\".format(test_accuracy))\n",
    "t2=time.time()\n",
    "print(round(t2-t,2),'Seconds to test...')"
   ]
  },
  {
   "cell_type": "code",
   "execution_count": null,
   "metadata": {
    "collapsed": true
   },
   "outputs": [],
   "source": []
  }
 ],
 "metadata": {
  "kernelspec": {
   "display_name": "Python 3",
   "language": "python",
   "name": "python3"
  },
  "language_info": {
   "codemirror_mode": {
    "name": "ipython",
    "version": 3
   },
   "file_extension": ".py",
   "mimetype": "text/x-python",
   "name": "python",
   "nbconvert_exporter": "python",
   "pygments_lexer": "ipython3",
   "version": "3.6.0"
  }
 },
 "nbformat": 4,
 "nbformat_minor": 2
}
